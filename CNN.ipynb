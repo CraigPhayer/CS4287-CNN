{
 "cells": [
  {
   "cell_type": "code",
   "execution_count": null,
   "id": "initial_id",
   "metadata": {
    "collapsed": true
   },
   "outputs": [],
   "source": [
    "import kagglehub\n",
    "import matplotlib.pyplot as plt\n",
    "from pathlib import Path\n",
    "from PIL import Image"
   ]
  },
  {
   "metadata": {},
   "cell_type": "code",
   "outputs": [],
   "execution_count": null,
   "source": [
    "dataset_path = Path(kagglehub.dataset_download(\"gpiosenka/cards-image-datasetclassification\"))\n",
    "\n",
    "print(\"Path to dataset files:\", dataset_path)\n",
    "print(\"Contents of dataset_path:\", list(dataset_path.iterdir()))"
   ],
   "id": "5c2a26603e305302"
  },
  {
   "metadata": {},
   "cell_type": "code",
   "outputs": [],
   "execution_count": null,
   "source": [
    "image_paths = []\n",
    "labels = []\n",
    "\n",
    "# Loop through train, test, and valid directories\n",
    "for split in ['train', 'test', 'valid']:\n",
    "    split_path = dataset_path / split\n",
    "    for class_folder in split_path.iterdir():\n",
    "        if class_folder.is_dir():\n",
    "            label = class_folder.name\n",
    "            for img_file in class_folder.glob(\"*.jpg\"):\n",
    "                image_paths.append(img_file)\n",
    "                labels.append(label)\n",
    "\n",
    "print(f\"Total images loaded: {len(image_paths)}\")\n",
    "print(\"Sample labels:\", labels[:5])\n",
    "\n",
    "class_names = [folder.name for folder in dataset_path.iterdir() if folder.is_dir()]\n",
    "print(\"Classes:\", class_names)\n",
    "\n",
    "def display_sample_images(num_samples=5):\n",
    "    fig, axes = plt.subplots(1, num_samples, figsize=(15, 5))\n",
    "    fig.suptitle(\"Sample Images from the Dataset\")\n",
    "\n",
    "    for i in range(num_samples):\n",
    "        image_path = image_paths[i]\n",
    "        label = labels[i]\n",
    "\n",
    "        image = Image.open(image_path)\n",
    "\n",
    "        axes[i].imshow(image)\n",
    "        axes[i].set_title(label)\n",
    "        axes[i].axis(\"off\")\n",
    "\n",
    "    plt.show()\n",
    "\n",
    "display_sample_images(5)"
   ],
   "id": "20745cf71ae01c8f"
  }
 ],
 "metadata": {
  "kernelspec": {
   "display_name": "Python 3",
   "language": "python",
   "name": "python3"
  },
  "language_info": {
   "codemirror_mode": {
    "name": "ipython",
    "version": 2
   },
   "file_extension": ".py",
   "mimetype": "text/x-python",
   "name": "python",
   "nbconvert_exporter": "python",
   "pygments_lexer": "ipython2",
   "version": "2.7.6"
  }
 },
 "nbformat": 4,
 "nbformat_minor": 5
}
